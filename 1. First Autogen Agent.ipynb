{
 "cells": [
  {
   "cell_type": "markdown",
   "id": "9f92850c",
   "metadata": {},
   "source": [
    "# Autogen Installation\n"
   ]
  },
  {
   "cell_type": "markdown",
   "id": "b1a10e41",
   "metadata": {},
   "source": [
    "1. Create a venv\n",
    "2. Create a requirements.txt\n",
    "3. install autogen-agentchat autogen-core autogen-ext"
   ]
  },
  {
   "cell_type": "markdown",
   "id": "4067dc4c",
   "metadata": {},
   "source": [
    "# First Autogen Agent\n"
   ]
  },
  {
   "cell_type": "code",
   "execution_count": 1,
   "id": "688ca4fa",
   "metadata": {},
   "outputs": [],
   "source": [
    "from autogen_agentchat.agents import AssistantAgent\n",
    "from autogen_ext.models.openai import OpenAIChatCompletionClient\n",
    "from dotenv import load_dotenv\n",
    "import os\n",
    "\n",
    "load_dotenv()\n",
    "\n",
    "api_key = os.getenv('OPENAI_API_KEY')"
   ]
  },
  {
   "cell_type": "markdown",
   "id": "5933fdac",
   "metadata": {},
   "source": [
    "# Connecting to the Model"
   ]
  },
  {
   "cell_type": "code",
   "execution_count": 2,
   "id": "93e8ce47",
   "metadata": {},
   "outputs": [],
   "source": [
    "model_client = OpenAIChatCompletionClient(model='gpt-4o',api_key=api_key)"
   ]
  },
  {
   "cell_type": "code",
   "execution_count": 3,
   "id": "7237adda",
   "metadata": {},
   "outputs": [],
   "source": [
    "agent_1 = AssistantAgent(name='my_assistant',model_client=model_client)"
   ]
  },
  {
   "cell_type": "code",
   "execution_count": 4,
   "id": "68fd927d",
   "metadata": {},
   "outputs": [],
   "source": [
    "result = await agent_1.run(task='Tell me something about you?')"
   ]
  },
  {
   "cell_type": "code",
   "execution_count": 5,
   "id": "647be0d9",
   "metadata": {},
   "outputs": [
    {
     "name": "stdout",
     "output_type": "stream",
     "text": [
      "messages=[TextMessage(id='9100be7c-3099-48b5-8d00-7cd6ead84066', source='user', models_usage=None, metadata={}, created_at=datetime.datetime(2025, 8, 1, 10, 55, 42, 743740, tzinfo=datetime.timezone.utc), content='Tell me something about you?', type='TextMessage'), TextMessage(id='0851135d-a458-4328-a391-b7a3cf637ece', source='my_assistant', models_usage=RequestUsage(prompt_tokens=42, completion_tokens=51), metadata={}, created_at=datetime.datetime(2025, 8, 1, 10, 55, 45, 351558, tzinfo=datetime.timezone.utc), content=\"I am an AI assistant, designed to help users with a wide range of tasks, from answering questions to providing recommendations and solving problems. I'm here to assist you 24/7 with the information and resources I have. How can I help you today?\", type='TextMessage')] stop_reason=None\n"
     ]
    }
   ],
   "source": [
    "print(result)"
   ]
  },
  {
   "cell_type": "code",
   "execution_count": 6,
   "id": "484d9d3f",
   "metadata": {},
   "outputs": [],
   "source": [
    "result2 = await agent_1.run(task='What was my last question?')"
   ]
  },
  {
   "cell_type": "code",
   "execution_count": 7,
   "id": "b213a370",
   "metadata": {},
   "outputs": [
    {
     "data": {
      "text/plain": [
       "TaskResult(messages=[TextMessage(id='69414d13-ad5a-46d8-98b8-4efc092f92db', source='user', models_usage=None, metadata={}, created_at=datetime.datetime(2025, 8, 1, 10, 55, 46, 412527, tzinfo=datetime.timezone.utc), content='What was my last question?', type='TextMessage'), TextMessage(id='39b37040-7bda-4467-ae0a-35a964257aaa', source='my_assistant', models_usage=RequestUsage(prompt_tokens=108, completion_tokens=19), metadata={}, created_at=datetime.datetime(2025, 8, 1, 10, 55, 47, 634282, tzinfo=datetime.timezone.utc), content='Your last question was: \"Tell me something about you?\" How can I assist you further?', type='TextMessage')], stop_reason=None)"
      ]
     },
     "execution_count": 7,
     "metadata": {},
     "output_type": "execute_result"
    }
   ],
   "source": [
    "result2"
   ]
  },
  {
   "cell_type": "code",
   "execution_count": null,
   "id": "acf559c1",
   "metadata": {},
   "outputs": [],
   "source": []
  }
 ],
 "metadata": {
  "kernelspec": {
   "display_name": "autogenenv",
   "language": "python",
   "name": "python3"
  },
  "language_info": {
   "codemirror_mode": {
    "name": "ipython",
    "version": 3
   },
   "file_extension": ".py",
   "mimetype": "text/x-python",
   "name": "python",
   "nbconvert_exporter": "python",
   "pygments_lexer": "ipython3",
   "version": "3.12.11"
  }
 },
 "nbformat": 4,
 "nbformat_minor": 5
}

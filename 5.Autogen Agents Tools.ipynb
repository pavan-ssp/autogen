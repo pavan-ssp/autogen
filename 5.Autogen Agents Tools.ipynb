{
 "cells": [
  {
   "cell_type": "markdown",
   "id": "a5854331",
   "metadata": {},
   "source": [
    "# Tools"
   ]
  },
  {
   "cell_type": "code",
   "execution_count": 5,
   "id": "77165d49",
   "metadata": {},
   "outputs": [
    {
     "name": "stdout",
     "output_type": "stream",
     "text": [
      "messages=[TextMessage(id='33f66086-ceb1-4b9e-8ae9-a32fce1c3df5', source='user', models_usage=None, metadata={}, created_at=datetime.datetime(2025, 8, 2, 7, 2, 40, 475903, tzinfo=datetime.timezone.utc), content='Reverse the string \"Hello, World!\"', type='TextMessage'), ToolCallRequestEvent(id='8d93a61b-b346-42c0-8b03-0f133fb8b922', source='ReverseStringAgent', models_usage=RequestUsage(prompt_tokens=79, completion_tokens=17), metadata={}, created_at=datetime.datetime(2025, 8, 2, 7, 2, 42, 704064, tzinfo=datetime.timezone.utc), content=[FunctionCall(id='call_efqifDvJYhZySV1QpTDYTyzi', arguments='{\"text\":\"Hello, World!\"}', name='reverse_string')], type='ToolCallRequestEvent'), ToolCallExecutionEvent(id='f374edf2-48da-4c88-93f0-2ee130abeaae', source='ReverseStringAgent', models_usage=None, metadata={}, created_at=datetime.datetime(2025, 8, 2, 7, 2, 42, 709009, tzinfo=datetime.timezone.utc), content=[FunctionExecutionResult(content='!dlroW ,olleH', name='reverse_string', call_id='call_efqifDvJYhZySV1QpTDYTyzi', is_error=False)], type='ToolCallExecutionEvent'), ToolCallSummaryMessage(id='a0222c6a-abd5-44d1-84b1-504fd19b2be4', source='ReverseStringAgent', models_usage=None, metadata={}, created_at=datetime.datetime(2025, 8, 2, 7, 2, 42, 709009, tzinfo=datetime.timezone.utc), content='!dlroW ,olleH', type='ToolCallSummaryMessage', tool_calls=[FunctionCall(id='call_efqifDvJYhZySV1QpTDYTyzi', arguments='{\"text\":\"Hello, World!\"}', name='reverse_string')], results=[FunctionExecutionResult(content='!dlroW ,olleH', name='reverse_string', call_id='call_efqifDvJYhZySV1QpTDYTyzi', is_error=False)])] stop_reason=None\n"
     ]
    }
   ],
   "source": [
    "import asyncio\n",
    "from autogen_agentchat.agents import AssistantAgent\n",
    "from autogen_ext.models.openai import OpenAIChatCompletionClient\n",
    "from autogen_core.tools import FunctionTool\n",
    "import os\n",
    "from dotenv import load_dotenv\n",
    "\n",
    "# Load environment variables\n",
    "load_dotenv()\n",
    "api_key = os.getenv(\"OPENAI_API_KEY\")\n",
    "if not api_key:\n",
    "    raise ValueError(\"Please set the OPENAI_API_KEY environment variable.\")\n",
    "\n",
    "\n",
    "model_client=OpenAIChatCompletionClient(model='gpt-4o',api_key=api_key)\n",
    "\n",
    "def reverse_string(text: str) -> str:\n",
    "    '''\n",
    "    Reverse the given text\n",
    "\n",
    "    input:str\n",
    "\n",
    "    output:str\n",
    "\n",
    "    The reverse string is returned.\n",
    "    '''\n",
    "    return text[::-1]\n",
    "\n",
    "reverse_tool = FunctionTool(reverse_string,description='A tool to reverse a string')\n",
    "\n",
    "\n",
    "\n",
    "agent = AssistantAgent(\n",
    "    name=\"ReverseStringAgent\",\n",
    "    model_client= model_client,\n",
    "    system_message='You are a helpful assistant that can reverse string using reverse_string tool. Give the result with summary',\n",
    "    tools=[reverse_tool]\n",
    ")\n",
    "\n",
    "\n",
    "result = await agent.run(task = 'Reverse the string \"Hello, World!\"')\n",
    "print(result)"
   ]
  }
 ],
 "metadata": {
  "kernelspec": {
   "display_name": "autogenenv",
   "language": "python",
   "name": "python3"
  },
  "language_info": {
   "codemirror_mode": {
    "name": "ipython",
    "version": 3
   },
   "file_extension": ".py",
   "mimetype": "text/x-python",
   "name": "python",
   "nbconvert_exporter": "python",
   "pygments_lexer": "ipython3",
   "version": "3.12.11"
  }
 },
 "nbformat": 4,
 "nbformat_minor": 5
}
